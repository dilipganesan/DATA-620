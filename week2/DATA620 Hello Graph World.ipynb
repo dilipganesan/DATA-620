{
 "cells": [
  {
   "cell_type": "markdown",
   "metadata": {},
   "source": [
    "# DATA 620 Week2 Assignment: Hello Graph World\n",
    "## Raghu Ramnath"
   ]
  },
  {
   "cell_type": "markdown",
   "metadata": {},
   "source": [
    "In this program, NetworkX pacakge will be used. Load the required pacakges to create the graph and plot it later on."
   ]
  },
  {
   "cell_type": "code",
   "execution_count": 3,
   "metadata": {},
   "outputs": [],
   "source": [
    "%matplotlib inline\n",
    "import networkx as nx\n",
    "import matplotlib.pyplot as plt"
   ]
  },
  {
   "cell_type": "markdown",
   "metadata": {},
   "source": [
    "Next we will create an empty graph, G."
   ]
  },
  {
   "cell_type": "code",
   "execution_count": 4,
   "metadata": {},
   "outputs": [],
   "source": [
    "G = nx.Graph()"
   ]
  },
  {
   "cell_type": "markdown",
   "metadata": {},
   "source": [
    "  Graph is empty at this time and need to add node set to the graph."
   ]
  },
  {
   "cell_type": "code",
   "execution_count": 5,
   "metadata": {},
   "outputs": [],
   "source": [
    "nodes = ['Andre', 'Beverly', 'Carol', 'Diane', \n",
    "        'Ed', 'Fernando', 'Heather', 'Ike', 'Jane']\n",
    "G.add_nodes_from(nodes)"
   ]
  },
  {
   "cell_type": "markdown",
   "metadata": {},
   "source": [
    "Add edge set to the graph."
   ]
  },
  {
   "cell_type": "code",
   "execution_count": 6,
   "metadata": {},
   "outputs": [],
   "source": [
    "edges = [('Andre', 'Beverly'),\n",
    "         ('Andre', 'Carol'),\n",
    "         ('Andre', 'Diane'),\n",
    "         ('Andre', 'Fernando'),\n",
    "         ('Beverly', 'Diane'),\n",
    "         ('Beverly', 'Garth'),\n",
    "         ('Beverly', 'Ed'),\n",
    "         ('Carol', 'Fernando'),\n",
    "         ('Carol', 'Diane'),\n",
    "         ('Ed', 'Diane'),\n",
    "         ('Ed', 'Garth'),\n",
    "         ('Diane', 'Fernando'),\n",
    "         ('Diane', 'Garth'),\n",
    "         ('Fernando','Garth'),\n",
    "         ('Heather', 'Fernando'),\n",
    "         ('Heather', 'Garth'),\n",
    "         ('Heather', 'Ike'),\n",
    "         ('Ike','Jane' )\n",
    "        ]\n",
    "G.add_edges_from(edges)"
   ]
  },
  {
   "cell_type": "markdown",
   "metadata": {},
   "source": [
    "Now that we have created our graph in NetworkX lets look at the degree of each of the vertices to confirm that we have connected our graph."
   ]
  },
  {
   "cell_type": "code",
   "execution_count": 7,
   "metadata": {},
   "outputs": [
    {
     "data": {
      "text/plain": [
       "DegreeView({'Andre': 4, 'Beverly': 4, 'Carol': 3, 'Diane': 6, 'Ed': 3, 'Fernando': 5, 'Heather': 3, 'Ike': 2, 'Jane': 1, 'Garth': 5})"
      ]
     },
     "execution_count": 7,
     "metadata": {},
     "output_type": "execute_result"
    }
   ],
   "source": [
    "nx.degree(G)"
   ]
  },
  {
   "cell_type": "markdown",
   "metadata": {},
   "source": [
    "Lets find the number of edges, nodes and draw the graph to confirm that we have our graph in the system."
   ]
  },
  {
   "cell_type": "code",
   "execution_count": 12,
   "metadata": {},
   "outputs": [
    {
     "data": {
      "text/plain": [
       "18"
      ]
     },
     "execution_count": 12,
     "metadata": {},
     "output_type": "execute_result"
    }
   ],
   "source": [
    "G.number_of_edges()"
   ]
  },
  {
   "cell_type": "code",
   "execution_count": 15,
   "metadata": {},
   "outputs": [
    {
     "data": {
      "text/plain": [
       "[('Andre', 'Beverly'),\n",
       " ('Andre', 'Carol'),\n",
       " ('Andre', 'Diane'),\n",
       " ('Andre', 'Fernando'),\n",
       " ('Beverly', 'Diane'),\n",
       " ('Beverly', 'Garth'),\n",
       " ('Beverly', 'Ed'),\n",
       " ('Carol', 'Fernando'),\n",
       " ('Carol', 'Diane'),\n",
       " ('Ed', 'Diane'),\n",
       " ('Ed', 'Garth'),\n",
       " ('Diane', 'Fernando'),\n",
       " ('Diane', 'Garth'),\n",
       " ('Fernando', 'Garth'),\n",
       " ('Heather', 'Fernando'),\n",
       " ('Heather', 'Garth'),\n",
       " ('Heather', 'Ike'),\n",
       " ('Ike', 'Jane')]"
      ]
     },
     "execution_count": 15,
     "metadata": {},
     "output_type": "execute_result"
    }
   ],
   "source": [
    "list(edges)"
   ]
  },
  {
   "cell_type": "code",
   "execution_count": 11,
   "metadata": {},
   "outputs": [
    {
     "data": {
      "text/plain": [
       "10"
      ]
     },
     "execution_count": 11,
     "metadata": {},
     "output_type": "execute_result"
    }
   ],
   "source": [
    "G.number_of_nodes()"
   ]
  },
  {
   "cell_type": "code",
   "execution_count": 16,
   "metadata": {},
   "outputs": [
    {
     "data": {
      "text/plain": [
       "['Andre',\n",
       " 'Beverly',\n",
       " 'Carol',\n",
       " 'Diane',\n",
       " 'Ed',\n",
       " 'Fernando',\n",
       " 'Heather',\n",
       " 'Ike',\n",
       " 'Jane']"
      ]
     },
     "execution_count": 16,
     "metadata": {},
     "output_type": "execute_result"
    }
   ],
   "source": [
    "list(nodes)"
   ]
  },
  {
   "cell_type": "code",
   "execution_count": 37,
   "metadata": {},
   "outputs": [
    {
     "data": {
      "image/png": "[encoded data removed]",
      "text/plain": [
       "<matplotlib.figure.Figure at 0x8f10b70>"
      ]
     },
     "metadata": {},
     "output_type": "display_data"
    }
   ],
   "source": [
    "nx.draw(G)\n",
    "plt.show()"
   ]
  }
 ],
 "metadata": {
  "anaconda-cloud": {},
  "kernelspec": {
   "display_name": "Python 3",
   "language": "python",
   "name": "python3"
  },
  "language_info": {
   "codemirror_mode": {
    "name": "ipython",
    "version": 3
   },
   "file_extension": ".py",
   "mimetype": "text/x-python",
   "name": "python",
   "nbconvert_exporter": "python",
   "pygments_lexer": "ipython3",
   "version": "3.6.4"
  }
 },
 "nbformat": 4,
 "nbformat_minor": 1
}
